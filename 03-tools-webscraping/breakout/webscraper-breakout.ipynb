{
 "cells": [
  {
   "cell_type": "markdown",
   "metadata": {},
   "source": [
    "## SOLUTIONS Breakout: Web scraping & web crawling\n",
    "\n",
    "**Author List**: Alexander Fred Ojala\n",
    "\n",
    "**Original Sources**: https://www.crummy.com/software/BeautifulSoup/bs4/doc/ & https://www.dataquest.io/blog/web-scraping-tutorial-python/\n",
    "\n",
    "**License**: Feel free to do whatever you want to with this code\n",
    "\n",
    "**Compatibility:** Python 2.x and 3.x"
   ]
  },
  {
   "cell_type": "markdown",
   "metadata": {},
   "source": [
    "---\n",
    "<a id='sec4'></a>\n",
    "# Breakout problem\n",
    "\n",
    "\n",
    "In this week's breakout you should extract live weather data in Berkeley from:\n",
    "\n",
    "[http://forecast.weather.gov/MapClick.php?lat=37.87158815800046&lon=-122.27274583799971](http://forecast.weather.gov/MapClick.php?lat=37.87158815800046&lon=-122.27274583799971)\n",
    "\n",
    "* Task scrape\n",
    "    * period / day (as Tonight, Friday, FridayNight etc.\n",
    "    * the temperature for the period (as Low, High)\n",
    "    * the long weather description (e.g. Partly cloudy, with a low around 49..)\n",
    "    \n",
    "Store the scraped data strings in a Pandas DataFrame. The index of the DataFrame should be the period / day. You may name the columns whatever you wish.\n",
    "\n",
    "\n",
    "\n",
    "**Hint:** The weather information is found in a div tag with `id='seven-day-forecast'`\n",
    "\n"
   ]
  },
  {
   "cell_type": "markdown",
   "metadata": {},
   "source": [
    "# Your solution"
   ]
  },
  {
   "cell_type": "code",
   "execution_count": 31,
   "metadata": {},
   "outputs": [
    {
     "data": {
      "text/html": [
       "<style>.container { width:90% !important; }</style>"
      ],
      "text/plain": [
       "<IPython.core.display.HTML object>"
      ]
     },
     "metadata": {},
     "output_type": "display_data"
    }
   ],
   "source": [
    "from IPython.core.display import display, HTML\n",
    "display(HTML(\"<style>.container { width:90% !important; }</style>\")) \n"
   ]
  },
  {
   "cell_type": "code",
   "execution_count": 32,
   "metadata": {},
   "outputs": [],
   "source": [
    "from __future__ import division, print_function\n",
    "import requests \n",
    "import bs4 as bs \n",
    "import pandas as pd"
   ]
  },
  {
   "cell_type": "code",
   "execution_count": 33,
   "metadata": {},
   "outputs": [],
   "source": [
    "source = requests.get(\"http://forecast.weather.gov/MapClick.php?lat=37.87158815800046&lon=-122.27274583799971\") "
   ]
  },
  {
   "cell_type": "code",
   "execution_count": 34,
   "metadata": {},
   "outputs": [],
   "source": [
    "soup = bs.BeautifulSoup(source.content, features='html.parser') "
   ]
  },
  {
   "cell_type": "code",
   "execution_count": 35,
   "metadata": {},
   "outputs": [
    {
     "name": "stdout",
     "output_type": "stream",
     "text": [
      "[<div class=\"panel panel-default\" id=\"seven-day-forecast\">\n",
      "<div class=\"panel-heading\">\n",
      "<b>Extended Forecast for</b>\n",
      "<h2 class=\"panel-title\">\n",
      "\t    \t    Berkeley CA\t</h2>\n",
      "</div>\n",
      "<div class=\"panel-body\" id=\"seven-day-forecast-body\">\n",
      "<div id=\"seven-day-forecast-container\"><ul class=\"list-unstyled\" id=\"seven-day-forecast-list\"><li class=\"forecast-tombstone\">\n",
      "<div class=\"tombstone-container\">\n",
      "<p class=\"period-name\">Tonight<br/><br/></p>\n",
      "<p><img alt=\"Tonight: Partly cloudy, with a low around 49. West wind around 6 mph becoming calm  in the evening. \" class=\"forecast-icon\" src=\"newimages/medium/nsct.png\" title=\"Tonight: Partly cloudy, with a low around 49. West wind around 6 mph becoming calm  in the evening. \"/></p><p class=\"short-desc\">Partly Cloudy</p><p class=\"temp temp-low\">Low: 49 °F</p></div></li><li class=\"forecast-tombstone\">\n",
      "<div class=\"tombstone-container\">\n",
      "<p class=\"period-name\">Thursday<br/><br/></p>\n",
      "<p><img alt=\"Thursday: Sunny, with a high near 69. Calm wind becoming west 5 to 7 mph in the afternoon. \" class=\"forecast-icon\" src=\"newimages/medium/few.png\" title=\"Thursday: Sunny, with a high near 69. Calm wind becoming west 5 to 7 mph in the afternoon. \"/></p><p class=\"short-desc\">Sunny</p><p class=\"temp temp-high\">High: 69 °F</p></div></li><li class=\"forecast-tombstone\">\n",
      "<div class=\"tombstone-container\">\n",
      "<p class=\"period-name\">Thursday<br/>Night</p>\n",
      "<p><img alt=\"Thursday Night: Partly cloudy, with a low around 49. South southwest wind 3 to 5 mph. \" class=\"forecast-icon\" src=\"newimages/medium/nsct.png\" title=\"Thursday Night: Partly cloudy, with a low around 49. South southwest wind 3 to 5 mph. \"/></p><p class=\"short-desc\">Partly Cloudy</p><p class=\"temp temp-low\">Low: 49 °F</p></div></li><li class=\"forecast-tombstone\">\n",
      "<div class=\"tombstone-container\">\n",
      "<p class=\"period-name\">Friday<br/><br/></p>\n",
      "<p><img alt=\"Friday: Mostly sunny, with a high near 66. Light south southwest wind becoming southwest 5 to 10 mph in the afternoon. \" class=\"forecast-icon\" src=\"newimages/medium/sct.png\" title=\"Friday: Mostly sunny, with a high near 66. Light south southwest wind becoming southwest 5 to 10 mph in the afternoon. \"/></p><p class=\"short-desc\">Mostly Sunny</p><p class=\"temp temp-high\">High: 66 °F</p></div></li><li class=\"forecast-tombstone\">\n",
      "<div class=\"tombstone-container\">\n",
      "<p class=\"period-name\">Friday<br/>Night</p>\n",
      "<p><img alt=\"Friday Night: Partly cloudy, with a low around 49. West southwest wind 8 to 13 mph. \" class=\"forecast-icon\" src=\"newimages/medium/nsct.png\" title=\"Friday Night: Partly cloudy, with a low around 49. West southwest wind 8 to 13 mph. \"/></p><p class=\"short-desc\">Partly Cloudy</p><p class=\"temp temp-low\">Low: 49 °F</p></div></li><li class=\"forecast-tombstone\">\n",
      "<div class=\"tombstone-container\">\n",
      "<p class=\"period-name\">Saturday<br/><br/></p>\n",
      "<p><img alt=\"Saturday: A 50 percent chance of showers.  Mostly cloudy, with a high near 57. New precipitation amounts between a tenth and quarter of an inch possible. \" class=\"forecast-icon\" src=\"newimages/medium/shra50.png\" title=\"Saturday: A 50 percent chance of showers.  Mostly cloudy, with a high near 57. New precipitation amounts between a tenth and quarter of an inch possible. \"/></p><p class=\"short-desc\">Chance<br/>Showers</p><p class=\"temp temp-high\">High: 57 °F</p></div></li><li class=\"forecast-tombstone\">\n",
      "<div class=\"tombstone-container\">\n",
      "<p class=\"period-name\">Saturday<br/>Night</p>\n",
      "<p><img alt=\"Saturday Night: Showers.  Low around 47. Chance of precipitation is 80%.\" class=\"forecast-icon\" src=\"newimages/medium/nshra80.png\" title=\"Saturday Night: Showers.  Low around 47. Chance of precipitation is 80%.\"/></p><p class=\"short-desc\">Showers</p><p class=\"temp temp-low\">Low: 47 °F</p></div></li><li class=\"forecast-tombstone\">\n",
      "<div class=\"tombstone-container\">\n",
      "<p class=\"period-name\">Sunday<br/><br/></p>\n",
      "<p><img alt=\"Sunday: Showers.  Mostly cloudy, with a high near 54.\" class=\"forecast-icon\" src=\"newimages/medium/shra.png\" title=\"Sunday: Showers.  Mostly cloudy, with a high near 54.\"/></p><p class=\"short-desc\">Showers</p><p class=\"temp temp-high\">High: 54 °F</p></div></li><li class=\"forecast-tombstone\">\n",
      "<div class=\"tombstone-container\">\n",
      "<p class=\"period-name\">Sunday<br/>Night</p>\n",
      "<p><img alt=\"Sunday Night: A chance of showers.  Mostly cloudy, with a low around 44.\" class=\"forecast-icon\" src=\"newimages/medium/nshra.png\" title=\"Sunday Night: A chance of showers.  Mostly cloudy, with a low around 44.\"/></p><p class=\"short-desc\">Chance<br/>Showers</p><p class=\"temp temp-low\">Low: 44 °F</p></div></li></ul></div>\n",
      "<script type=\"text/javascript\">\n",
      "// equalize forecast heights\n",
      "$(function () {\n",
      "\tvar maxh = 0;\n",
      "\t$(\".forecast-tombstone .short-desc\").each(function () {\n",
      "\t\tvar h = $(this).height();\n",
      "\t\tif (h > maxh) { maxh = h; }\n",
      "\t});\n",
      "\t$(\".forecast-tombstone .short-desc\").height(maxh);\n",
      "});\n",
      "</script> </div>\n",
      "</div>]\n"
     ]
    }
   ],
   "source": [
    "soup_2=soup.find_all(id='seven-day-forecast')\n",
    "print(soup_2)"
   ]
  },
  {
   "cell_type": "code",
   "execution_count": 36,
   "metadata": {},
   "outputs": [
    {
     "name": "stdout",
     "output_type": "stream",
     "text": [
      "['Tonight', '', 'Partly Cloudy', 'Low: 49 °F']\n",
      "['Thursday', '', 'Sunny', 'High: 69 °F']\n",
      "['ThursdayNight', '', 'Partly Cloudy', 'Low: 49 °F']\n",
      "['Friday', '', 'Mostly Sunny', 'High: 66 °F']\n",
      "['FridayNight', '', 'Partly Cloudy', 'Low: 49 °F']\n",
      "['Saturday', '', 'ChanceShowers', 'High: 57 °F']\n",
      "['SaturdayNight', '', 'Showers', 'Low: 47 °F']\n",
      "['Sunday', '', 'Showers', 'High: 54 °F']\n",
      "['SundayNight', '', 'ChanceShowers', 'Low: 44 °F']\n"
     ]
    }
   ],
   "source": [
    "soup_result = list()\n",
    "for i in soup_2:\n",
    "    for j in i.find_all(class_ = \"tombstone-container\"):\n",
    "        k = j.find_all('p') # find all table data\n",
    "        data = [l.text for l in k]\n",
    "        print(data) \n",
    "        soup_result.append(data)\n",
    "        # get all the table data into a list"
   ]
  },
  {
   "cell_type": "code",
   "execution_count": 37,
   "metadata": {},
   "outputs": [],
   "source": [
    "for i in soup_result:\n",
    "    i.pop(1)"
   ]
  },
  {
   "cell_type": "code",
   "execution_count": 38,
   "metadata": {},
   "outputs": [],
   "source": [
    "result=pd.DataFrame(soup_result,columns=['period / day','temperature','description'])"
   ]
  },
  {
   "cell_type": "code",
   "execution_count": 28,
   "metadata": {},
   "outputs": [
    {
     "data": {
      "text/html": [
       "<div>\n",
       "<style scoped>\n",
       "    .dataframe tbody tr th:only-of-type {\n",
       "        vertical-align: middle;\n",
       "    }\n",
       "\n",
       "    .dataframe tbody tr th {\n",
       "        vertical-align: top;\n",
       "    }\n",
       "\n",
       "    .dataframe thead th {\n",
       "        text-align: right;\n",
       "    }\n",
       "</style>\n",
       "<table border=\"1\" class=\"dataframe\">\n",
       "  <thead>\n",
       "    <tr style=\"text-align: right;\">\n",
       "      <th></th>\n",
       "      <th>period / day</th>\n",
       "      <th>temperature</th>\n",
       "      <th>description</th>\n",
       "    </tr>\n",
       "  </thead>\n",
       "  <tbody>\n",
       "    <tr>\n",
       "      <th>0</th>\n",
       "      <td>Tonight</td>\n",
       "      <td>Partly Cloudy</td>\n",
       "      <td>Low: 49 °F</td>\n",
       "    </tr>\n",
       "    <tr>\n",
       "      <th>1</th>\n",
       "      <td>Thursday</td>\n",
       "      <td>Sunny</td>\n",
       "      <td>High: 69 °F</td>\n",
       "    </tr>\n",
       "    <tr>\n",
       "      <th>2</th>\n",
       "      <td>ThursdayNight</td>\n",
       "      <td>Mostly Clear</td>\n",
       "      <td>Low: 49 °F</td>\n",
       "    </tr>\n",
       "    <tr>\n",
       "      <th>3</th>\n",
       "      <td>Friday</td>\n",
       "      <td>Mostly Sunny</td>\n",
       "      <td>High: 66 °F</td>\n",
       "    </tr>\n",
       "    <tr>\n",
       "      <th>4</th>\n",
       "      <td>FridayNight</td>\n",
       "      <td>Partly Cloudy</td>\n",
       "      <td>Low: 49 °F</td>\n",
       "    </tr>\n",
       "    <tr>\n",
       "      <th>5</th>\n",
       "      <td>Saturday</td>\n",
       "      <td>ChanceShowers</td>\n",
       "      <td>High: 57 °F</td>\n",
       "    </tr>\n",
       "    <tr>\n",
       "      <th>6</th>\n",
       "      <td>SaturdayNight</td>\n",
       "      <td>Showers</td>\n",
       "      <td>Low: 47 °F</td>\n",
       "    </tr>\n",
       "    <tr>\n",
       "      <th>7</th>\n",
       "      <td>Sunday</td>\n",
       "      <td>Showers</td>\n",
       "      <td>High: 54 °F</td>\n",
       "    </tr>\n",
       "    <tr>\n",
       "      <th>8</th>\n",
       "      <td>SundayNight</td>\n",
       "      <td>ChanceShowers</td>\n",
       "      <td>Low: 44 °F</td>\n",
       "    </tr>\n",
       "  </tbody>\n",
       "</table>\n",
       "</div>"
      ],
      "text/plain": [
       "    period / day    temperature  description\n",
       "0        Tonight  Partly Cloudy   Low: 49 °F\n",
       "1       Thursday          Sunny  High: 69 °F\n",
       "2  ThursdayNight   Mostly Clear   Low: 49 °F\n",
       "3         Friday   Mostly Sunny  High: 66 °F\n",
       "4    FridayNight  Partly Cloudy   Low: 49 °F\n",
       "5       Saturday  ChanceShowers  High: 57 °F\n",
       "6  SaturdayNight        Showers   Low: 47 °F\n",
       "7         Sunday        Showers  High: 54 °F\n",
       "8    SundayNight  ChanceShowers   Low: 44 °F"
      ]
     },
     "execution_count": 28,
     "metadata": {},
     "output_type": "execute_result"
    }
   ],
   "source": [
    "result"
   ]
  },
  {
   "cell_type": "code",
   "execution_count": null,
   "metadata": {},
   "outputs": [],
   "source": []
  }
 ],
 "metadata": {
  "kernelspec": {
   "display_name": "Python 3",
   "language": "python",
   "name": "python3"
  },
  "language_info": {
   "codemirror_mode": {
    "name": "ipython",
    "version": 3
   },
   "file_extension": ".py",
   "mimetype": "text/x-python",
   "name": "python",
   "nbconvert_exporter": "python",
   "pygments_lexer": "ipython3",
   "version": "3.7.3"
  }
 },
 "nbformat": 4,
 "nbformat_minor": 2
}
